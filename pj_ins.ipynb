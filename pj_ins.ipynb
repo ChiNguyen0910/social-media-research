{
 "cells": [
  {
   "cell_type": "code",
   "execution_count": 1,
   "id": "c3911232-b944-491c-aefe-3df1d6ace3c2",
   "metadata": {},
   "outputs": [
    {
     "data": {
      "text/html": [
       "<div>\n",
       "<style scoped>\n",
       "    .dataframe tbody tr th:only-of-type {\n",
       "        vertical-align: middle;\n",
       "    }\n",
       "\n",
       "    .dataframe tbody tr th {\n",
       "        vertical-align: top;\n",
       "    }\n",
       "\n",
       "    .dataframe thead th {\n",
       "        text-align: right;\n",
       "    }\n",
       "</style>\n",
       "<table border=\"1\" class=\"dataframe\">\n",
       "  <thead>\n",
       "    <tr style=\"text-align: right;\">\n",
       "      <th></th>\n",
       "      <th>User uuid</th>\n",
       "      <th>Likes</th>\n",
       "      <th>Days passed from post</th>\n",
       "      <th>Likes Score</th>\n",
       "      <th>Type</th>\n",
       "      <th>Numer of Tags</th>\n",
       "      <th>Numer of Comments</th>\n",
       "      <th>Date Posted</th>\n",
       "      <th>Year</th>\n",
       "    </tr>\n",
       "  </thead>\n",
       "  <tbody>\n",
       "    <tr>\n",
       "      <th>0</th>\n",
       "      <td>1</td>\n",
       "      <td>506</td>\n",
       "      <td>657</td>\n",
       "      <td>0.74</td>\n",
       "      <td>Image</td>\n",
       "      <td>3</td>\n",
       "      <td>11</td>\n",
       "      <td>5/12/2019 21:18</td>\n",
       "      <td>2019</td>\n",
       "    </tr>\n",
       "    <tr>\n",
       "      <th>1</th>\n",
       "      <td>1</td>\n",
       "      <td>385</td>\n",
       "      <td>657</td>\n",
       "      <td>0.57</td>\n",
       "      <td>Image</td>\n",
       "      <td>0</td>\n",
       "      <td>1</td>\n",
       "      <td>5/12/2019 14:25</td>\n",
       "      <td>2019</td>\n",
       "    </tr>\n",
       "    <tr>\n",
       "      <th>2</th>\n",
       "      <td>1</td>\n",
       "      <td>373</td>\n",
       "      <td>666</td>\n",
       "      <td>0.55</td>\n",
       "      <td>Images</td>\n",
       "      <td>4</td>\n",
       "      <td>15</td>\n",
       "      <td>5/3/2019 15:18</td>\n",
       "      <td>2019</td>\n",
       "    </tr>\n",
       "    <tr>\n",
       "      <th>3</th>\n",
       "      <td>1</td>\n",
       "      <td>312</td>\n",
       "      <td>667</td>\n",
       "      <td>0.46</td>\n",
       "      <td>Images</td>\n",
       "      <td>4</td>\n",
       "      <td>1</td>\n",
       "      <td>5/2/2019 16:40</td>\n",
       "      <td>2019</td>\n",
       "    </tr>\n",
       "    <tr>\n",
       "      <th>4</th>\n",
       "      <td>1</td>\n",
       "      <td>513</td>\n",
       "      <td>674</td>\n",
       "      <td>0.75</td>\n",
       "      <td>Images</td>\n",
       "      <td>5</td>\n",
       "      <td>0</td>\n",
       "      <td>4/25/2019 16:51</td>\n",
       "      <td>2019</td>\n",
       "    </tr>\n",
       "  </tbody>\n",
       "</table>\n",
       "</div>"
      ],
      "text/plain": [
       "   User uuid  Likes  Days passed from post  Likes Score    Type  \\\n",
       "0          1    506                    657         0.74   Image   \n",
       "1          1    385                    657         0.57   Image   \n",
       "2          1    373                    666         0.55  Images   \n",
       "3          1    312                    667         0.46  Images   \n",
       "4          1    513                    674         0.75  Images   \n",
       "\n",
       "   Numer of Tags  Numer of Comments      Date Posted  Year  \n",
       "0              3                 11  5/12/2019 21:18  2019  \n",
       "1              0                  1  5/12/2019 14:25  2019  \n",
       "2              4                 15   5/3/2019 15:18  2019  \n",
       "3              4                  1   5/2/2019 16:40  2019  \n",
       "4              5                  0  4/25/2019 16:51  2019  "
      ]
     },
     "execution_count": 1,
     "metadata": {},
     "output_type": "execute_result"
    }
   ],
   "source": [
    "import pandas as pd\n",
    "\n",
    "## Reading the csv file\n",
    "ins = pd.read_csv('Instagram_Data_1.csv')\n",
    "ins.head()"
   ]
  },
  {
   "cell_type": "code",
   "execution_count": 12,
   "id": "2b2e1527-526b-47ed-9d9c-8d4e32e1ec04",
   "metadata": {},
   "outputs": [
    {
     "name": "stdout",
     "output_type": "stream",
     "text": [
      "<class 'pandas.core.frame.DataFrame'>\n",
      "RangeIndex: 178922 entries, 0 to 178921\n",
      "Data columns (total 9 columns):\n",
      " #   Column                 Non-Null Count   Dtype  \n",
      "---  ------                 --------------   -----  \n",
      " 0   User uuid              178922 non-null  int64  \n",
      " 1   Likes                  178922 non-null  int64  \n",
      " 2   Days passed from post  178922 non-null  int64  \n",
      " 3   Likes Score            178922 non-null  float64\n",
      " 4   Type                   178922 non-null  object \n",
      " 5   Numer of Tags          178922 non-null  int64  \n",
      " 6   Numer of Comments      178922 non-null  int64  \n",
      " 7   Date Posted            178922 non-null  object \n",
      " 8   Year                   178922 non-null  int64  \n",
      "dtypes: float64(1), int64(6), object(2)\n",
      "memory usage: 12.3+ MB\n"
     ]
    }
   ],
   "source": [
    "ins.info()"
   ]
  },
  {
   "cell_type": "code",
   "execution_count": 11,
   "id": "7064535b-a284-4d46-9850-cdccb9168f23",
   "metadata": {},
   "outputs": [
    {
     "data": {
      "image/png": "[encoded data removed]",
      "text/plain": [
       "<Figure size 432x288 with 1 Axes>"
      ]
     },
     "metadata": {
      "needs_background": "light"
     },
     "output_type": "display_data"
    }
   ],
   "source": [
    "import matplotlib.pyplot as plt\n",
    "\n",
    "## Creating the scatter plot\n",
    "plt.plot(ins['Numer of Tags'], ins['Likes'],'o')\n",
    "plt.xlabel('Numer of Tags')\n",
    "plt.ylabel('Likes')\n",
    "plt.grid()\n",
    "plt.show()\n"
   ]
  },
  {
   "cell_type": "code",
   "execution_count": 3,
   "id": "a636de0e-01e1-4024-93a3-ae46fd182471",
   "metadata": {},
   "outputs": [
    {
     "data": {
      "text/html": [
       "<div>\n",
       "<style scoped>\n",
       "    .dataframe tbody tr th:only-of-type {\n",
       "        vertical-align: middle;\n",
       "    }\n",
       "\n",
       "    .dataframe tbody tr th {\n",
       "        vertical-align: top;\n",
       "    }\n",
       "\n",
       "    .dataframe thead th {\n",
       "        text-align: right;\n",
       "    }\n",
       "</style>\n",
       "<table border=\"1\" class=\"dataframe\">\n",
       "  <thead>\n",
       "    <tr style=\"text-align: right;\">\n",
       "      <th></th>\n",
       "      <th>User uuid</th>\n",
       "      <th>Likes</th>\n",
       "      <th>Days passed from post</th>\n",
       "      <th>Likes Score</th>\n",
       "      <th>Numer of Tags</th>\n",
       "      <th>Numer of Comments</th>\n",
       "      <th>Year</th>\n",
       "    </tr>\n",
       "  </thead>\n",
       "  <tbody>\n",
       "    <tr>\n",
       "      <th>count</th>\n",
       "      <td>178922.000000</td>\n",
       "      <td>1.789220e+05</td>\n",
       "      <td>178922.000000</td>\n",
       "      <td>178922.000000</td>\n",
       "      <td>178922.000000</td>\n",
       "      <td>1.789220e+05</td>\n",
       "      <td>178922.000000</td>\n",
       "    </tr>\n",
       "    <tr>\n",
       "      <th>mean</th>\n",
       "      <td>546.316948</td>\n",
       "      <td>4.298806e+04</td>\n",
       "      <td>447.477510</td>\n",
       "      <td>0.270961</td>\n",
       "      <td>3.578045</td>\n",
       "      <td>5.622285e+02</td>\n",
       "      <td>2019.412107</td>\n",
       "    </tr>\n",
       "    <tr>\n",
       "      <th>std</th>\n",
       "      <td>317.200142</td>\n",
       "      <td>2.604648e+05</td>\n",
       "      <td>492.620418</td>\n",
       "      <td>0.210007</td>\n",
       "      <td>6.877008</td>\n",
       "      <td>1.201380e+04</td>\n",
       "      <td>1.374731</td>\n",
       "    </tr>\n",
       "    <tr>\n",
       "      <th>min</th>\n",
       "      <td>1.000000</td>\n",
       "      <td>0.000000e+00</td>\n",
       "      <td>0.000000</td>\n",
       "      <td>0.000000</td>\n",
       "      <td>0.000000</td>\n",
       "      <td>0.000000e+00</td>\n",
       "      <td>2010.000000</td>\n",
       "    </tr>\n",
       "    <tr>\n",
       "      <th>25%</th>\n",
       "      <td>273.000000</td>\n",
       "      <td>1.340000e+02</td>\n",
       "      <td>107.000000</td>\n",
       "      <td>0.100000</td>\n",
       "      <td>0.000000</td>\n",
       "      <td>4.000000e+00</td>\n",
       "      <td>2019.000000</td>\n",
       "    </tr>\n",
       "    <tr>\n",
       "      <th>50%</th>\n",
       "      <td>540.000000</td>\n",
       "      <td>1.064000e+03</td>\n",
       "      <td>260.000000</td>\n",
       "      <td>0.220000</td>\n",
       "      <td>0.000000</td>\n",
       "      <td>2.300000e+01</td>\n",
       "      <td>2020.000000</td>\n",
       "    </tr>\n",
       "    <tr>\n",
       "      <th>75%</th>\n",
       "      <td>829.000000</td>\n",
       "      <td>1.074300e+04</td>\n",
       "      <td>612.000000</td>\n",
       "      <td>0.390000</td>\n",
       "      <td>3.000000</td>\n",
       "      <td>1.357500e+02</td>\n",
       "      <td>2020.000000</td>\n",
       "    </tr>\n",
       "    <tr>\n",
       "      <th>max</th>\n",
       "      <td>1089.000000</td>\n",
       "      <td>1.544569e+07</td>\n",
       "      <td>3775.000000</td>\n",
       "      <td>1.000000</td>\n",
       "      <td>31.000000</td>\n",
       "      <td>2.907644e+06</td>\n",
       "      <td>2021.000000</td>\n",
       "    </tr>\n",
       "  </tbody>\n",
       "</table>\n",
       "</div>"
      ],
      "text/plain": [
       "           User uuid         Likes  Days passed from post    Likes Score  \\\n",
       "count  178922.000000  1.789220e+05          178922.000000  178922.000000   \n",
       "mean      546.316948  4.298806e+04             447.477510       0.270961   \n",
       "std       317.200142  2.604648e+05             492.620418       0.210007   \n",
       "min         1.000000  0.000000e+00               0.000000       0.000000   \n",
       "25%       273.000000  1.340000e+02             107.000000       0.100000   \n",
       "50%       540.000000  1.064000e+03             260.000000       0.220000   \n",
       "75%       829.000000  1.074300e+04             612.000000       0.390000   \n",
       "max      1089.000000  1.544569e+07            3775.000000       1.000000   \n",
       "\n",
       "       Numer of Tags  Numer of Comments           Year  \n",
       "count  178922.000000       1.789220e+05  178922.000000  \n",
       "mean        3.578045       5.622285e+02    2019.412107  \n",
       "std         6.877008       1.201380e+04       1.374731  \n",
       "min         0.000000       0.000000e+00    2010.000000  \n",
       "25%         0.000000       4.000000e+00    2019.000000  \n",
       "50%         0.000000       2.300000e+01    2020.000000  \n",
       "75%         3.000000       1.357500e+02    2020.000000  \n",
       "max        31.000000       2.907644e+06    2021.000000  "
      ]
     },
     "execution_count": 3,
     "metadata": {},
     "output_type": "execute_result"
    }
   ],
   "source": [
    "## Summary the CSV file\n",
    "ins.describe()"
   ]
  },
  {
   "cell_type": "code",
   "execution_count": null,
   "id": "11a6cb84-29f0-47c4-b26b-3214e5540379",
   "metadata": {},
   "outputs": [],
   "source": []
  },
  {
   "cell_type": "code",
   "execution_count": 5,
   "id": "5c226eae-6d3a-47a0-9c0b-73405e17a087",
   "metadata": {},
   "outputs": [
    {
     "data": {
      "text/plain": [
       "<AxesSubplot:>"
      ]
     },
     "execution_count": 5,
     "metadata": {},
     "output_type": "execute_result"
    },
    {
     "data": {
      "image/png": "[encoded data removed]",
      "text/plain": [
       "<Figure size 432x288 with 1 Axes>"
      ]
     },
     "metadata": {
      "needs_background": "light"
     },
     "output_type": "display_data"
    }
   ],
   "source": [
    "## Creating a bar chart of Type\n",
    "ins['Type'].value_counts().plot(kind = 'bar')"
   ]
  },
  {
   "cell_type": "code",
   "execution_count": 6,
   "id": "14ab96fc-42e9-4f82-aeac-536d02380156",
   "metadata": {},
   "outputs": [
    {
     "data": {
      "text/plain": [
       "<AxesSubplot:>"
      ]
     },
     "execution_count": 6,
     "metadata": {},
     "output_type": "execute_result"
    },
    {
     "data": {
      "image/png": "[encoded data removed]",
      "text/plain": [
       "<Figure size 432x288 with 1 Axes>"
      ]
     },
     "metadata": {
      "needs_background": "light"
     },
     "output_type": "display_data"
    }
   ],
   "source": [
    "## Creating a bar chart of Type\n",
    "ins['Year'].value_counts().plot(kind = 'bar')"
   ]
  }
 ],
 "metadata": {
  "kernelspec": {
   "display_name": "Python 3",
   "language": "python",
   "name": "python3"
  },
  "language_info": {
   "codemirror_mode": {
    "name": "ipython",
    "version": 3
   },
   "file_extension": ".py",
   "mimetype": "text/x-python",
   "name": "python",
   "nbconvert_exporter": "python",
   "pygments_lexer": "ipython3",
   "version": "3.8.8"
  }
 },
 "nbformat": 4,
 "nbformat_minor": 5
}
